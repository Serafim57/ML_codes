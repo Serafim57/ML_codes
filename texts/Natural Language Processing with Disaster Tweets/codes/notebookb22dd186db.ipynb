{
 "cells": [
  {
   "cell_type": "code",
   "execution_count": 1,
   "id": "33bbe7b7",
   "metadata": {
    "_cell_guid": "b1076dfc-b9ad-4769-8c92-a6c4dae69d19",
    "_uuid": "8f2839f25d086af736a60e9eeb907d3b93b6e0e5",
    "execution": {
     "iopub.execute_input": "2022-06-04T16:11:15.593805Z",
     "iopub.status.busy": "2022-06-04T16:11:15.593362Z",
     "iopub.status.idle": "2022-06-04T16:11:15.607263Z",
     "shell.execute_reply": "2022-06-04T16:11:15.606232Z"
    },
    "papermill": {
     "duration": 0.025401,
     "end_time": "2022-06-04T16:11:15.612019",
     "exception": false,
     "start_time": "2022-06-04T16:11:15.586618",
     "status": "completed"
    },
    "tags": []
   },
   "outputs": [
    {
     "name": "stdout",
     "output_type": "stream",
     "text": [
      "/kaggle/input/nlp-getting-started/sample_submission.csv\n",
      "/kaggle/input/nlp-getting-started/train.csv\n",
      "/kaggle/input/nlp-getting-started/test.csv\n"
     ]
    }
   ],
   "source": [
    "# This Python 3 environment comes with many helpful analytics libraries installed\n",
    "# It is defined by the kaggle/python Docker image: https://github.com/kaggle/docker-python\n",
    "# For example, here's several helpful packages to load\n",
    "\n",
    "import numpy as np # linear algebra\n",
    "import pandas as pd # data processing, CSV file I/O (e.g. pd.read_csv)\n",
    "\n",
    "# Input data files are available in the read-only \"../input/\" directory\n",
    "# For example, running this (by clicking run or pressing Shift+Enter) will list all files under the input directory\n",
    "\n",
    "import os\n",
    "for dirname, _, filenames in os.walk('/kaggle/input'):\n",
    "    for filename in filenames:\n",
    "        print(os.path.join(dirname, filename))\n",
    "\n",
    "# You can write up to 20GB to the current directory (/kaggle/working/) that gets preserved as output when you create a version using \"Save & Run All\" \n",
    "# You can also write temporary files to /kaggle/temp/, but they won't be saved outside of the current session"
   ]
  },
  {
   "cell_type": "code",
   "execution_count": null,
   "id": "53883b87",
   "metadata": {
    "execution": {
     "iopub.execute_input": "2022-06-04T16:10:32.831505Z",
     "iopub.status.busy": "2022-06-04T16:10:32.831006Z",
     "iopub.status.idle": "2022-06-04T16:10:35.686949Z",
     "shell.execute_reply": "2022-06-04T16:10:35.686096Z",
     "shell.execute_reply.started": "2022-06-04T16:10:32.831473Z"
    },
    "papermill": {
     "duration": null,
     "end_time": null,
     "exception": false,
     "start_time": "2022-06-04T16:11:15.616189",
     "status": "running"
    },
    "tags": []
   },
   "outputs": [],
   "source": [
    "import numpy as np\n",
    "import pandas as pd\n",
    "from sklearn.linear_model import LinearRegression, Ridge\n",
    "import matplotlib.pyplot as plt\n",
    "import re\n",
    "from sklearn.linear_model import LinearRegression, Ridge, Lasso, BayesianRidge\n",
    "from sklearn.model_selection import train_test_split, GridSearchCV\n",
    "from sklearn.metrics import mean_squared_error, r2_score\n",
    "from sklearn.preprocessing import MinMaxScaler, StandardScaler\n",
    "from sklearn.neighbors import KNeighborsRegressor\n",
    "from sklearn import preprocessing\n",
    "from sklearn.svm import SVR\n",
    "from sklearn.pipeline import make_pipeline, Pipeline\n",
    "from sklearn.preprocessing import StandardScaler\n",
    "import numpy as np\n",
    "from sklearn.neural_network import MLPRegressor\n",
    "from sklearn.datasets import make_regression\n",
    "from sklearn.model_selection import train_test_split\n",
    "from sklearn.feature_extraction.text import TfidfVectorizer\n",
    "from sklearn.linear_model import LogisticRegression\n",
    "from sklearn.metrics import f1_score\n",
    "from sklearn.linear_model import RidgeClassifier\n",
    "from sklearn.svm import SVC\n",
    "from sklearn.ensemble import BaggingClassifier\n",
    "from sklearn.datasets import make_classification\n",
    "from sklearn.tree import DecisionTreeClassifier\n",
    "from sklearn.ensemble import RandomForestClassifier\n",
    "from catboost import CatBoostClassifier\n",
    "from catboost import Pool\n",
    "from gensim.utils import tokenize\n",
    "from nltk.stem.snowball import SnowballStemmer\n",
    "from nltk.stem import WordNetLemmatizer\n",
    "from nltk.corpus import stopwords\n",
    "from sklearn.preprocessing import OneHotEncoder, OrdinalEncoder, LabelEncoder, MultiLabelBinarizer\n",
    "from sklearn.impute import SimpleImputer\n",
    "from sklearn.compose import ColumnTransformer\n",
    "from sklearn.pipeline import make_pipeline"
   ]
  },
  {
   "cell_type": "code",
   "execution_count": null,
   "id": "c98fbd21",
   "metadata": {
    "execution": {
     "iopub.execute_input": "2022-06-04T16:10:35.693175Z",
     "iopub.status.busy": "2022-06-04T16:10:35.692589Z",
     "iopub.status.idle": "2022-06-04T16:10:35.708227Z",
     "shell.execute_reply": "2022-06-04T16:10:35.707158Z",
     "shell.execute_reply.started": "2022-06-04T16:10:35.693134Z"
    },
    "papermill": {
     "duration": null,
     "end_time": null,
     "exception": null,
     "start_time": null,
     "status": "pending"
    },
    "tags": []
   },
   "outputs": [],
   "source": [
    "import nltk\n",
    "stemmer = SnowballStemmer('english')\n",
    "lemmatizer = WordNetLemmatizer()\n",
    "stop_words = set(stopwords.words('english'))"
   ]
  },
  {
   "cell_type": "code",
   "execution_count": null,
   "id": "6227e634",
   "metadata": {
    "execution": {
     "iopub.execute_input": "2022-06-04T16:10:35.711441Z",
     "iopub.status.busy": "2022-06-04T16:10:35.710789Z",
     "iopub.status.idle": "2022-06-04T16:10:35.813040Z",
     "shell.execute_reply": "2022-06-04T16:10:35.810805Z",
     "shell.execute_reply.started": "2022-06-04T16:10:35.711369Z"
    },
    "papermill": {
     "duration": null,
     "end_time": null,
     "exception": null,
     "start_time": null,
     "status": "pending"
    },
    "tags": []
   },
   "outputs": [],
   "source": [
    "test = pd.read_csv(\"../input/nlp-getting-started/test.csv\")\n",
    "train = pd.read_csv(\"../input/nlp-getting-started/train.csv\")\n",
    "submission = pd.read_csv(\"../input/nlp-getting-started/sample_submission.csv\")"
   ]
  },
  {
   "cell_type": "markdown",
   "id": "0213036b",
   "metadata": {
    "papermill": {
     "duration": null,
     "end_time": null,
     "exception": null,
     "start_time": null,
     "status": "pending"
    },
    "tags": []
   },
   "source": [
    "Let's make preprocessing and vectorizing texts;\n",
    "We will use TF-IDF and usual LogisticRegression"
   ]
  },
  {
   "cell_type": "code",
   "execution_count": null,
   "id": "e2d60b02",
   "metadata": {
    "execution": {
     "iopub.execute_input": "2022-06-04T16:10:35.818454Z",
     "iopub.status.busy": "2022-06-04T16:10:35.817847Z",
     "iopub.status.idle": "2022-06-04T16:10:35.834150Z",
     "shell.execute_reply": "2022-06-04T16:10:35.833093Z",
     "shell.execute_reply.started": "2022-06-04T16:10:35.818408Z"
    },
    "papermill": {
     "duration": null,
     "end_time": null,
     "exception": null,
     "start_time": null,
     "status": "pending"
    },
    "tags": []
   },
   "outputs": [],
   "source": [
    "\n",
    "\n",
    "def remove_urls(vTEXT):\n",
    "    vTEXT = re.sub(r'(https|http)?:\\/\\/(\\w|\\.|\\/|\\?|\\=|\\&|\\%)*\\b', '', vTEXT, flags=re.MULTILINE)\n",
    "    return(vTEXT)\n",
    "\n",
    "\n",
    "# def \n",
    "def preprocessing(df):\n",
    "    text_list = list(df['text'])\n",
    "    preprocessed_texts = []\n",
    "    for i in range(len(text_list)):\n",
    "        text_tokenized = remove_urls(text_list[i])\n",
    "        text_tokenized = list(tokenize(text_tokenized, lower = True, deacc = True))\n",
    "#         preprocessed_texts.append(list(text_tokenized))\n",
    "        text_stemmed = [stemmer.stem(w) for w in text_tokenized if w not in stop_words]\n",
    "        text_without_stop_words = [w for w in text_stemmed if w not in stop_words]\n",
    "        preprocessed_texts.append(text_without_stop_words)\n",
    "        \n",
    "    for i in range(len(preprocessed_texts)):\n",
    "        preprocessed_texts[i] = \" \".join(preprocessed_texts[i])\n",
    "    return preprocessed_texts  #возвращает корпус обработанных твитов\n",
    "\n",
    "\n",
    "\n",
    "def model_vect_texts(df):\n",
    "    vectorizer = TfidfVectorizer() #модель для векторизации текстов\n",
    "    preprocessed_texts_for_train = preprocessing(df) #на каком корпусе текстов будем обучать vectorizer\n",
    "    vectorizer.fit(preprocessed_texts_for_train) #обучаем vectorizer\n",
    "    return vectorizer\n",
    "\n",
    "\n",
    "def preprocessing_features(df, vectorizer):\n",
    "    preprocessed_texts = preprocessing(df)\n",
    "\n",
    "    tfidf = vectorizer.transform(preprocessed_texts)\n",
    "#     df_tfidf = pd.DataFrame(tfidf.toarray(), columns = list(vectorizer.get_feature_names()))\n",
    "#     df_tfidf['loc'] = df['location'] #их слишком много, они практичсеки эквивалентны 'id' как и keyword\n",
    "#     df_tfidf = pd.get_dummies(df_tfidf)\n",
    "    \n",
    "    return tfidf"
   ]
  },
  {
   "cell_type": "code",
   "execution_count": null,
   "id": "be5418b3",
   "metadata": {
    "execution": {
     "iopub.execute_input": "2022-06-04T16:10:35.836608Z",
     "iopub.status.busy": "2022-06-04T16:10:35.835714Z",
     "iopub.status.idle": "2022-06-04T16:10:39.455049Z",
     "shell.execute_reply": "2022-06-04T16:10:39.454113Z",
     "shell.execute_reply.started": "2022-06-04T16:10:35.836562Z"
    },
    "papermill": {
     "duration": null,
     "end_time": null,
     "exception": null,
     "start_time": null,
     "status": "pending"
    },
    "tags": []
   },
   "outputs": [],
   "source": [
    "X = pd.DataFrame(train)\n",
    "X_train, X_test, y_train, y_test = train_test_split(X, train['target'])\n",
    "vectorizer_train = model_vect_texts(X_train)\n",
    "X_train = preprocessing_features(X_train, vectorizer_train)\n",
    "X_test = preprocessing_features(X_test, vectorizer_train)\n",
    "# X_train = vectorizer_train.transform(X_train)\n",
    "# X_test = vectorizer_train.transform(X_test)"
   ]
  },
  {
   "cell_type": "code",
   "execution_count": null,
   "id": "f1da5575",
   "metadata": {
    "execution": {
     "iopub.execute_input": "2022-06-04T16:10:39.456733Z",
     "iopub.status.busy": "2022-06-04T16:10:39.456297Z",
     "iopub.status.idle": "2022-06-04T16:10:39.766031Z",
     "shell.execute_reply": "2022-06-04T16:10:39.765015Z",
     "shell.execute_reply.started": "2022-06-04T16:10:39.456694Z"
    },
    "papermill": {
     "duration": null,
     "end_time": null,
     "exception": null,
     "start_time": null,
     "status": "pending"
    },
    "tags": []
   },
   "outputs": [],
   "source": [
    "model = LogisticRegression()\n",
    "model.fit(X_train, y_train)\n",
    "y_pred_train = model.predict(X_train)\n",
    "y_pred_test = model.predict(X_test)\n",
    "print(f'LogisticRegression on train, f1_score: {f1_score(y_pred_train, y_train)}')\n",
    "print(f'LogisticRegression on test, f1_score: {f1_score(y_pred_test, y_test)}')\n",
    "\n"
   ]
  },
  {
   "cell_type": "markdown",
   "id": "544779c8",
   "metadata": {
    "papermill": {
     "duration": null,
     "end_time": null,
     "exception": null,
     "start_time": null,
     "status": "pending"
    },
    "tags": []
   },
   "source": [
    "let's train our model on the final DataFarme:\n"
   ]
  },
  {
   "cell_type": "code",
   "execution_count": null,
   "id": "23935fef",
   "metadata": {
    "execution": {
     "iopub.execute_input": "2022-06-04T16:10:39.769668Z",
     "iopub.status.busy": "2022-06-04T16:10:39.767669Z",
     "iopub.status.idle": "2022-06-04T16:10:44.817118Z",
     "shell.execute_reply": "2022-06-04T16:10:44.816157Z",
     "shell.execute_reply.started": "2022-06-04T16:10:39.769619Z"
    },
    "papermill": {
     "duration": null,
     "end_time": null,
     "exception": null,
     "start_time": null,
     "status": "pending"
    },
    "tags": []
   },
   "outputs": [],
   "source": [
    "vectorizer_final = model_vect_texts(train)\n",
    "y = train['target']\n",
    "train_final = preprocessing_features(train, vectorizer_final)\n",
    "test_final = preprocessing_features(test, vectorizer_final)"
   ]
  },
  {
   "cell_type": "code",
   "execution_count": null,
   "id": "bf7f0c86",
   "metadata": {
    "execution": {
     "iopub.execute_input": "2022-06-04T16:10:44.819274Z",
     "iopub.status.busy": "2022-06-04T16:10:44.818483Z",
     "iopub.status.idle": "2022-06-04T16:10:45.371066Z",
     "shell.execute_reply": "2022-06-04T16:10:45.370043Z",
     "shell.execute_reply.started": "2022-06-04T16:10:44.819241Z"
    },
    "papermill": {
     "duration": null,
     "end_time": null,
     "exception": null,
     "start_time": null,
     "status": "pending"
    },
    "tags": []
   },
   "outputs": [],
   "source": [
    "model = LogisticRegression()\n",
    "model.fit(train_final, y)\n",
    "y_pred_train_final = model.predict(train_final)\n",
    "y_pred_test_final = model.predict(test_final)\n",
    "print(f'LogisticRegression on train, f1_score: {f1_score(y_pred_train_final, y)}')\n",
    "y_pred_test_final\n",
    "\n",
    "\n"
   ]
  }
 ],
 "metadata": {
  "kernelspec": {
   "display_name": "Python 3",
   "language": "python",
   "name": "python3"
  },
  "language_info": {
   "codemirror_mode": {
    "name": "ipython",
    "version": 3
   },
   "file_extension": ".py",
   "mimetype": "text/x-python",
   "name": "python",
   "nbconvert_exporter": "python",
   "pygments_lexer": "ipython3",
   "version": "3.6.4"
  },
  "papermill": {
   "default_parameters": {},
   "duration": null,
   "end_time": null,
   "environment_variables": {},
   "exception": null,
   "input_path": "__notebook__.ipynb",
   "output_path": "__notebook__.ipynb",
   "parameters": {},
   "start_time": "2022-06-04T16:11:05.118219",
   "version": "2.3.4"
  }
 },
 "nbformat": 4,
 "nbformat_minor": 5
}