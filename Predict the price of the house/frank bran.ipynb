{
 "cells": [
  {
   "cell_type": "code",
   "execution_count": 9,
   "id": "98a24b87",
   "metadata": {},
   "outputs": [
    {
     "name": "stdout",
     "output_type": "stream",
     "text": [
      "WARNING: pip is being invoked by an old script wrapper. This will fail in a future version of pip.\n",
      "Please see https://github.com/pypa/pip/issues/5599 for advice on fixing the underlying issue.\n",
      "To avoid this problem you can invoke Python with '-m pip' instead of running pip directly.\n",
      "Defaulting to user installation because normal site-packages is not writeable\n",
      "Requirement already satisfied: pgeocode in /Users/serafim/Library/Python/3.8/lib/python/site-packages (0.3.0)\n",
      "Requirement already satisfied: pandas in /Users/serafim/Library/Python/3.8/lib/python/site-packages (from pgeocode) (1.3.0)\n",
      "Requirement already satisfied: requests in /Users/serafim/Library/Python/3.8/lib/python/site-packages (from pgeocode) (2.27.1)\n",
      "Requirement already satisfied: numpy in /Users/serafim/Library/Python/3.8/lib/python/site-packages (from pgeocode) (1.21.0)\n",
      "Requirement already satisfied: python-dateutil>=2.7.3 in /Users/serafim/Library/Python/3.8/lib/python/site-packages (from pandas->pgeocode) (2.8.1)\n",
      "Requirement already satisfied: pytz>=2017.3 in /Users/serafim/Library/Python/3.8/lib/python/site-packages (from pandas->pgeocode) (2021.1)\n",
      "Requirement already satisfied: idna<4,>=2.5 in /Users/serafim/Library/Python/3.8/lib/python/site-packages (from requests->pgeocode) (3.3)\n",
      "Requirement already satisfied: charset-normalizer~=2.0.0 in /Users/serafim/Library/Python/3.8/lib/python/site-packages (from requests->pgeocode) (2.0.11)\n",
      "Requirement already satisfied: certifi>=2017.4.17 in /Users/serafim/Library/Python/3.8/lib/python/site-packages (from requests->pgeocode) (2021.10.8)\n",
      "Requirement already satisfied: urllib3<1.27,>=1.21.1 in /Users/serafim/Library/Python/3.8/lib/python/site-packages (from requests->pgeocode) (1.26.8)\n",
      "Requirement already satisfied: six>=1.5 in /Library/Developer/CommandLineTools/Library/Frameworks/Python3.framework/Versions/3.8/lib/python3.8/site-packages (from python-dateutil>=2.7.3->pandas->pgeocode) (1.15.0)\n"
     ]
    }
   ],
   "source": [
    "import numpy as np\n",
    "import pandas as pd\n",
    "import matplotlib.pyplot as plt\n",
    "import pgeocode\n",
    "from sklearn.linear_model import LinearRegression, Ridge, Lasso, BayesianRidge\n",
    "from sklearn.model_selection import train_test_split, GridSearchCV\n",
    "from sklearn.metrics import mean_squared_error, r2_score\n",
    "from sklearn.preprocessing import MinMaxScaler, StandardScaler\n",
    "from sklearn.neighbors import KNeighborsRegressor\n",
    "from sklearn import preprocessing\n",
    "from sklearn.preprocessing import PolynomialFeatures\n",
    "from sklearn.svm import SVR\n",
    "from sklearn.pipeline import make_pipeline, Pipeline\n",
    "from sklearn.preprocessing import StandardScaler\n",
    "import numpy as np\n",
    "from sklearn.neural_network import MLPRegressor\n",
    "from sklearn.datasets import make_regression\n",
    "from sklearn.model_selection import train_test_split\n",
    "from sklearn.datasets import load_diabetes\n",
    "from sklearn.model_selection import cross_val_score\n",
    "from sklearn.tree import DecisionTreeRegressor\n",
    "from sklearn.feature_selection import VarianceThreshold\n",
    "from sklearn.svm import LinearSVR\n",
    "import geopy.distance\n",
    "!pip3 install pgeocode"
   ]
  },
  {
   "cell_type": "code",
   "execution_count": 11,
   "id": "368d11ea",
   "metadata": {},
   "outputs": [],
   "source": [
    "def year(date: str) -> int: #возвращает год\n",
    "    return date[:4]\n",
    "\n",
    "def season(date: str) -> int: #возвращает сезон года\n",
    "    m = int(date[4:6])\n",
    "    season = (m % 12) // 3\n",
    "    return season\n",
    "\n",
    "\n",
    "location_pg = pgeocode.Nominatim('US')\n",
    "\n",
    "def place_of_US(zipcode):\n",
    "    return location_pg.query_postal_code(str(zipcode))['place_name']\n",
    "\n",
    "\n",
    "def was_renovated(year): \n",
    "    if year != 0:\n",
    "        return 1\n",
    "    return 0\n",
    "\n",
    "def time_renovated(year):\n",
    "    if year != 0:\n",
    "        return df['year'] - year\n",
    "    return df['year'] - df['yr_built']\n",
    "\n",
    "def coordinates(df):\n",
    "    x = np.cos(df.lat) * np.cos(df.long)\n",
    "    y = np.cos(df.lat) * np.sin(df.long) \n",
    "    z = np.sin(df.lat) \n",
    "    \n",
    "    return pd.DataFrame({'x': x, 'y': y, 'z': z})"
   ]
  },
  {
   "cell_type": "code",
   "execution_count": 12,
   "id": "1b35f15c",
   "metadata": {},
   "outputs": [],
   "source": [
    "final_list = {'Federal Way': 1,\n",
    " 'Auburn': 2,\n",
    " 'Enumclaw': 3,\n",
    " 'Kent': 4,\n",
    " 'Maple Valley': 5,\n",
    " 'Renton': 6,\n",
    " 'Black Diamond': 7,\n",
    " 'Duvall': 8,\n",
    " 'North Bend': 9,\n",
    " 'Carnation': 10,\n",
    " 'Kenmore': 11,\n",
    " 'Seattle': 12,\n",
    " 'Vashon': 13,\n",
    " 'Bothell': 14,\n",
    " 'Fall City': 15,\n",
    " 'Snoqualmie': 16,\n",
    " 'Kirkland': 17,\n",
    " 'Issaquah': 18,\n",
    " 'Woodinville': 19,\n",
    " 'Redmond': 20,\n",
    " 'Sammamish': 21,\n",
    " 'Bellevue': 22,\n",
    " 'Mercer Island': 23,\n",
    " 'Medina': 24}\n",
    "\n",
    "#создак списан по медиане стоимости дома в каждом городе"
   ]
  },
  {
   "cell_type": "code",
   "execution_count": 13,
   "id": "7af460df",
   "metadata": {},
   "outputs": [],
   "source": [
    "\n",
    "def places_by_median_of_price(df):\n",
    "    list_of_places = df['place'].unique()\n",
    "    \n",
    "    places_median = []\n",
    "    for el in list_of_places:\n",
    "        tmp_df = df[df['place'] == el]\n",
    "        places_median.append(np.median(tmp_df['price']))\n",
    "    print(places_median)\n",
    "    L = []\n",
    "    for i in range(len(list_of_places)):\n",
    "        L.append((places_median[i], list_of_places[i]))\n",
    "    L.sort()\n",
    "    final_list = {}\n",
    "    for i in range(len(list_of_places)):\n",
    "        final_list[L[i][1]] = i + 1\n",
    "    return final_list\n",
    "\n",
    "\n",
    "def column_places_median_f(place):\n",
    "    return final_list[place]\n",
    "\n",
    "\n"
   ]
  },
  {
   "cell_type": "code",
   "execution_count": 23,
   "id": "6f9e3166",
   "metadata": {},
   "outputs": [],
   "source": [
    "X = pd.read_csv('/Users/serafim/Desktop/house-pricing-ml-matfac-0/x_train.csv')\n",
    "y = pd.read_csv('/Users/serafim/Desktop/house-pricing-ml-matfac-0/y_train.csv')\n",
    "x_test_final = pd.read_csv('/Users/serafim/Desktop/house-pricing-ml-matfac-0/x_test.csv')\n",
    "dummy = pd.read_csv('/Users/serafim/Desktop/house-pricing-ml-matfac-0/dummy.csv')\n",
    "\n",
    "\n",
    "\n"
   ]
  },
  {
   "cell_type": "code",
   "execution_count": 24,
   "id": "fc1b83bb",
   "metadata": {},
   "outputs": [
    {
     "name": "stderr",
     "output_type": "stream",
     "text": [
      "/Users/serafim/Library/Python/3.8/lib/python/site-packages/sklearn/utils/deprecation.py:87: FutureWarning: Function get_feature_names is deprecated; get_feature_names is deprecated in 1.0 and will be removed in 1.2. Please use get_feature_names_out instead.\n",
      "  warnings.warn(msg, category=FutureWarning)\n",
      "/Users/serafim/Library/Python/3.8/lib/python/site-packages/sklearn/utils/deprecation.py:87: FutureWarning: Function get_feature_names is deprecated; get_feature_names is deprecated in 1.0 and will be removed in 1.2. Please use get_feature_names_out instead.\n",
      "  warnings.warn(msg, category=FutureWarning)\n"
     ]
    }
   ],
   "source": [
    "# file_places_final = '/Users/serafim/Desktop/Python/машинка/places_by_norm_name_homework_ml.csv'\n",
    "# file_places_now_X = '/Users/serafim/Desktop/Python/машинка/places_by_norm_homework_ml.csv'\n",
    "\n",
    "\n",
    "def add_columns_final(df):\n",
    "\n",
    "    df['year'] = df['date'].apply(year)\n",
    "\n",
    "    df['year'] = df['year'].astype(int)\n",
    "    df['old'] = df['year'] - df['yr_built']\n",
    "    df['sqft_1'] = df['sqft_living'] / (df['floors']+1e-7) / (10**3)\n",
    "    df['sqft_2'] = df['sqft_living'] / (df['sqft_lot']+1e-7)\n",
    "    df['sqft_3'] = df['sqft_above'] / (df['sqft_living']+1e-7)\n",
    "    df['sqft_4'] = df['sqft_basement'] / (df['sqft_living']+1e-7)\n",
    "    df['sqft_living_per_floor'] = df['sqft_living'] / df['floors']\n",
    "    df['was_renovated'] = (df['yr_renovated'] != 0)\n",
    "    df['old_renovated'] = df['year'] - df['yr_renovated']\n",
    "    df['old_renovated'] = df['old_renovated'].where(df['was_renovated'] == True, df['old'])\n",
    "    del df['date']\n",
    "    df = df.join(coordinates(df))\n",
    "    df['radius'] = (df['x']**2 + df['y']**2)#**(1/2)\n",
    "    del df['sqft_above']\n",
    "    del df['sqft_basement']\n",
    "    del df['sqft_living']\n",
    "    del df['sqft_lot']\n",
    "    del df['bedrooms']\n",
    "    del df['yr_built']\n",
    "    del df['yr_renovated']   \n",
    "    df['lat_long'] = df['lat'] - df['long']\n",
    "\n",
    "    df['place_name'] = df['zipcode'].apply(place_of_US)\n",
    "#     places_final = pd.read_csv(file_of_places) #скачиваем по ссылке файл с городами\n",
    "    \n",
    "#     df['place_name'] = places_final['place']\n",
    "    df['place_median'] = df['place_name'].apply(column_places_median_f)\n",
    "\n",
    "    df = pd.get_dummies(df)\n",
    "    \n",
    "    poly = PolynomialFeatures(degree = 2)\n",
    "    df = pd.DataFrame(poly.fit_transform(df), columns = poly.get_feature_names(df.columns))\n",
    "    del df['1']\n",
    "\n",
    "    return df\n",
    "\n",
    "    \n",
    "\n",
    "    \n",
    "x_test_final = add_columns_final(x_test_final)\n",
    "# x_test_final = add_columns_final(x_test_final, file_places_now_X)\n",
    "X = add_columns_final(X)\n",
    "    \n",
    "    \n",
    "    "
   ]
  },
  {
   "cell_type": "code",
   "execution_count": 25,
   "id": "83f2fd17",
   "metadata": {},
   "outputs": [
    {
     "name": "stdout",
     "output_type": "stream",
     "text": [
      "0.01570111416723329\n"
     ]
    }
   ],
   "source": [
    "features_variance = X.var()\n",
    "features_variance_s = features_variance.sort_values(ascending=False)\n",
    "# 0.0155\n",
    "perc = np.percentile(features_variance_s, 43.8)\n",
    "print(perc)\n",
    "f_v_s_n = features_variance_s[features_variance_s > 0.0155].index\n",
    "\n",
    "X = X[f_v_s_n]\n",
    "x_test_final = x_test_final[f_v_s_n]\n",
    "\n"
   ]
  },
  {
   "cell_type": "code",
   "execution_count": 26,
   "id": "f1491700",
   "metadata": {},
   "outputs": [],
   "source": [
    "# t_0 = 0.006\n",
    "# E = []\n",
    "# for i in range(20):\n",
    "#     # colnames = X.columns\n",
    "\n",
    "\n",
    "#     X_train, X_test, y_train, y_test = train_test_split(X, y, test_size=0.3, random_state=42)\n",
    "\n",
    "\n",
    "\n",
    "\n",
    "#     colnames = X.columns\n",
    "#     scaler_X = StandardScaler()\n",
    "#     scaler_X.fit(X_train)\n",
    "\n",
    "\n",
    "#     X_train = scaler_X.transform(X_train)\n",
    "#     X_test = scaler_X.transform(X_test)\n",
    "#     # x_test_final = scaler_X.transform(x_test_final)\n",
    "#     X_train = pd.DataFrame(X_train, columns = colnames)\n",
    "#     X_test = pd.DataFrame(X_test, columns = colnames)\n",
    "#     # x_test_final = pd.DataFrame(x_test_final, columns = colnames)\n",
    "    \n",
    "\n",
    "\n",
    "#     lin_reg = LinearRegression(n_jobs = -1).fit(X_train, y_train)\n",
    "#     y_test_pred = lin_reg.predict(X_test)\n",
    "#     y_train_pred = lin_reg.predict(X_train)\n",
    "#     E.append((r2_score(y_test_pred, y_test), t_0))\n",
    "#     t_0 += 0.001\n",
    "#     features_variance = X.var()\n",
    "#     features_variance_s = features_variance.sort_values(ascending=False)\n",
    "#     # 0.0155\n",
    "#     f_v_s_n = features_variance_s[features_variance_s > t_0].index\n",
    "#     X = X[f_v_s_n]\n",
    "#     x_test_final = x_test_final[f_v_s_n]\n",
    "\n"
   ]
  },
  {
   "cell_type": "code",
   "execution_count": 27,
   "id": "8d866618",
   "metadata": {},
   "outputs": [],
   "source": [
    "# plt.plot(E)"
   ]
  },
  {
   "cell_type": "code",
   "execution_count": 28,
   "id": "f8fab693",
   "metadata": {},
   "outputs": [
    {
     "name": "stdout",
     "output_type": "stream",
     "text": [
      "LinearRegression on test: 0.8901256295052672\n",
      "LinearRegression on train: 0.9060345835301497\n",
      "\n"
     ]
    },
    {
     "data": {
      "text/plain": [
       "array([[290841.37578991],\n",
       "       [751253.69170787],\n",
       "       [521450.47149303],\n",
       "       ...,\n",
       "       [643152.2080653 ],\n",
       "       [595031.77509628],\n",
       "       [566139.75424677]])"
      ]
     },
     "execution_count": 28,
     "metadata": {},
     "output_type": "execute_result"
    }
   ],
   "source": [
    "# colnames = X.columns\n",
    "\n",
    "\n",
    "X_train, X_test, y_train, y_test = train_test_split(X, y, test_size=0.3, random_state=42)\n",
    "\n",
    "\n",
    "\n",
    "\n",
    "colnames = X.columns\n",
    "scaler_X = StandardScaler()\n",
    "scaler_X.fit(X_train)\n",
    "\n",
    "\n",
    "X_train = scaler_X.transform(X_train)\n",
    "X_test = scaler_X.transform(X_test)\n",
    "# x_test_final = scaler_X.transform(x_test_final)\n",
    "X_train = pd.DataFrame(X_train, columns = colnames)\n",
    "X_test = pd.DataFrame(X_test, columns = colnames)\n",
    "# x_test_final = pd.DataFrame(x_test_final, columns = colnames)\n",
    "\n",
    "\n",
    "\n",
    "lin_reg = LinearRegression(n_jobs=-1).fit(X_train, y_train)\n",
    "y_test_pred = lin_reg.predict(X_test)\n",
    "y_train_pred = lin_reg.predict(X_train)\n",
    "print(f'LinearRegression on test: {r2_score(y_test_pred, y_test)}')\n",
    "print(f'LinearRegression on train: {r2_score(y_train_pred, y_train)}')\n",
    "print()\n",
    "y_test_pred"
   ]
  },
  {
   "cell_type": "code",
   "execution_count": 29,
   "id": "c445e76f",
   "metadata": {},
   "outputs": [
    {
     "name": "stdout",
     "output_type": "stream",
     "text": [
      "LinearRegression on: 0.9038621338073898\n"
     ]
    },
    {
     "data": {
      "text/plain": [
       "array([[733536.15959585],\n",
       "       [665260.89586294],\n",
       "       [286205.09093129],\n",
       "       ...,\n",
       "       [532513.37633169],\n",
       "       [191012.23470785],\n",
       "       [313951.84429276]])"
      ]
     },
     "execution_count": 29,
     "metadata": {},
     "output_type": "execute_result"
    }
   ],
   "source": [
    "colnames = X.columns\n",
    "scaler_X = StandardScaler()\n",
    "scaler_X.fit(X)\n",
    "\n",
    "\n",
    "\n",
    "X = scaler_X.transform(X)\n",
    "X = pd.DataFrame(X, columns = colnames)\n",
    "\n",
    "x_test_final = scaler_X.transform(x_test_final)\n",
    "x_test_final = pd.DataFrame(x_test_final, columns = colnames)\n",
    "\n",
    "\n",
    "\n",
    "lin_reg = LinearRegression().fit(X, y)\n",
    "y_pred = lin_reg.predict(X)\n",
    "print(f'LinearRegression on: {r2_score(y_pred, y)}')\n",
    "y_pred\n",
    "# lin_reg.predict(x_test_final)\n",
    "\n",
    "\n",
    "\n"
   ]
  },
  {
   "cell_type": "code",
   "execution_count": 30,
   "id": "993f48fb",
   "metadata": {},
   "outputs": [
    {
     "data": {
      "text/plain": [
       "array([[ 362648.34117544],\n",
       "       [ 915267.82432973],\n",
       "       [1246142.26800954],\n",
       "       ...,\n",
       "       [ 309676.76817739],\n",
       "       [ 827055.78795278],\n",
       "       [ 459181.30890401]])"
      ]
     },
     "execution_count": 30,
     "metadata": {},
     "output_type": "execute_result"
    }
   ],
   "source": [
    "lin_reg.predict(x_test_final)"
   ]
  },
  {
   "cell_type": "code",
   "execution_count": 31,
   "id": "907e7e28",
   "metadata": {},
   "outputs": [
    {
     "data": {
      "text/html": [
       "<div>\n",
       "<style scoped>\n",
       "    .dataframe tbody tr th:only-of-type {\n",
       "        vertical-align: middle;\n",
       "    }\n",
       "\n",
       "    .dataframe tbody tr th {\n",
       "        vertical-align: top;\n",
       "    }\n",
       "\n",
       "    .dataframe thead th {\n",
       "        text-align: right;\n",
       "    }\n",
       "</style>\n",
       "<table border=\"1\" class=\"dataframe\">\n",
       "  <thead>\n",
       "    <tr style=\"text-align: right;\">\n",
       "      <th></th>\n",
       "      <th>Id</th>\n",
       "      <th>price</th>\n",
       "    </tr>\n",
       "  </thead>\n",
       "  <tbody>\n",
       "    <tr>\n",
       "      <th>0</th>\n",
       "      <td>0</td>\n",
       "      <td>3.626483e+05</td>\n",
       "    </tr>\n",
       "    <tr>\n",
       "      <th>1</th>\n",
       "      <td>1</td>\n",
       "      <td>9.152678e+05</td>\n",
       "    </tr>\n",
       "    <tr>\n",
       "      <th>2</th>\n",
       "      <td>2</td>\n",
       "      <td>1.246142e+06</td>\n",
       "    </tr>\n",
       "    <tr>\n",
       "      <th>3</th>\n",
       "      <td>3</td>\n",
       "      <td>1.932843e+06</td>\n",
       "    </tr>\n",
       "    <tr>\n",
       "      <th>4</th>\n",
       "      <td>4</td>\n",
       "      <td>7.113353e+05</td>\n",
       "    </tr>\n",
       "    <tr>\n",
       "      <th>...</th>\n",
       "      <td>...</td>\n",
       "      <td>...</td>\n",
       "    </tr>\n",
       "    <tr>\n",
       "      <th>6479</th>\n",
       "      <td>6479</td>\n",
       "      <td>3.677616e+05</td>\n",
       "    </tr>\n",
       "    <tr>\n",
       "      <th>6480</th>\n",
       "      <td>6480</td>\n",
       "      <td>6.042092e+05</td>\n",
       "    </tr>\n",
       "    <tr>\n",
       "      <th>6481</th>\n",
       "      <td>6481</td>\n",
       "      <td>3.096768e+05</td>\n",
       "    </tr>\n",
       "    <tr>\n",
       "      <th>6482</th>\n",
       "      <td>6482</td>\n",
       "      <td>8.270558e+05</td>\n",
       "    </tr>\n",
       "    <tr>\n",
       "      <th>6483</th>\n",
       "      <td>6483</td>\n",
       "      <td>4.591813e+05</td>\n",
       "    </tr>\n",
       "  </tbody>\n",
       "</table>\n",
       "<p>6484 rows × 2 columns</p>\n",
       "</div>"
      ],
      "text/plain": [
       "        Id         price\n",
       "0        0  3.626483e+05\n",
       "1        1  9.152678e+05\n",
       "2        2  1.246142e+06\n",
       "3        3  1.932843e+06\n",
       "4        4  7.113353e+05\n",
       "...    ...           ...\n",
       "6479  6479  3.677616e+05\n",
       "6480  6480  6.042092e+05\n",
       "6481  6481  3.096768e+05\n",
       "6482  6482  8.270558e+05\n",
       "6483  6483  4.591813e+05\n",
       "\n",
       "[6484 rows x 2 columns]"
      ]
     },
     "execution_count": 31,
     "metadata": {},
     "output_type": "execute_result"
    }
   ],
   "source": [
    "y_final = pd.DataFrame(np.arange(6484), columns = ['Id'])\n",
    "y_final['price'] = lin_reg.predict(x_test_final)\n",
    "\n",
    "y_final\n",
    "y_final.to_csv('house_pricing_final_version_Serafim.csv')\n",
    "# y_final.to_csv('/Users/serafim/Desktop/house-pricing-ml-matfac-0/result15.csv', index=False)"
   ]
  },
  {
   "cell_type": "code",
   "execution_count": null,
   "id": "75d93c35",
   "metadata": {},
   "outputs": [],
   "source": []
  },
  {
   "cell_type": "code",
   "execution_count": null,
   "id": "4ab263c2",
   "metadata": {},
   "outputs": [],
   "source": []
  }
 ],
 "metadata": {
  "kernelspec": {
   "display_name": "Python 3 (ipykernel)",
   "language": "python",
   "name": "python3"
  },
  "language_info": {
   "codemirror_mode": {
    "name": "ipython",
    "version": 3
   },
   "file_extension": ".py",
   "mimetype": "text/x-python",
   "name": "python",
   "nbconvert_exporter": "python",
   "pygments_lexer": "ipython3",
   "version": "3.8.2"
  }
 },
 "nbformat": 4,
 "nbformat_minor": 5
}
